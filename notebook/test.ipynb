{
 "cells": [
  {
   "cell_type": "code",
   "execution_count": 7,
   "metadata": {},
   "outputs": [
    {
     "name": "stdout",
     "output_type": "stream",
     "text": [
      "<div id=\"post_next_prev\"/>&#13;\n",
      "\n"
     ]
    }
   ],
   "source": [
    "from pyquery import PyQuery as pq\n",
    "a = pq('https://www.cnblogs.com/CloudMan6/p/5224114.html')\n",
    "print(a('#post_next_prev'))"
   ]
  },
  {
   "cell_type": "code",
   "execution_count": 99,
   "metadata": {},
   "outputs": [
    {
     "ename": "NotImplementedError",
     "evalue": "Only the following pseudo-classes are implemented: nth-of-type.",
     "output_type": "error",
     "traceback": [
      "\u001b[1;31m---------------------------------------------------------------------------\u001b[0m",
      "\u001b[1;31mNotImplementedError\u001b[0m                       Traceback (most recent call last)",
      "\u001b[1;32m<ipython-input-99-41c8b240b0af>\u001b[0m in \u001b[0;36m<module>\u001b[1;34m()\u001b[0m\n\u001b[0;32m     14\u001b[0m \u001b[0ma\u001b[0m \u001b[1;33m=\u001b[0m \u001b[0mBeautifulSoup\u001b[0m\u001b[1;33m(\u001b[0m\u001b[0mbrowser\u001b[0m\u001b[1;33m.\u001b[0m\u001b[0mpage_source\u001b[0m\u001b[1;33m,\u001b[0m \u001b[1;34m'lxml'\u001b[0m\u001b[1;33m)\u001b[0m\u001b[1;33m\u001b[0m\u001b[0m\n\u001b[0;32m     15\u001b[0m \u001b[1;31m# ab = a.find_all('a', class_='p_n_p_prefix')[-1].attrs['href']\u001b[0m\u001b[1;33m\u001b[0m\u001b[1;33m\u001b[0m\u001b[0m\n\u001b[1;32m---> 16\u001b[1;33m \u001b[0mab\u001b[0m \u001b[1;33m=\u001b[0m \u001b[0ma\u001b[0m\u001b[1;33m.\u001b[0m\u001b[0mselect\u001b[0m\u001b[1;33m(\u001b[0m\u001b[1;34m'#post_next_prev > a:nth-last-child(1)'\u001b[0m\u001b[1;33m)\u001b[0m\u001b[1;33m\u001b[0m\u001b[0m\n\u001b[0m\u001b[0;32m     17\u001b[0m \u001b[0mprint\u001b[0m\u001b[1;33m(\u001b[0m\u001b[0mab\u001b[0m\u001b[1;33m)\u001b[0m\u001b[1;33m\u001b[0m\u001b[0m\n",
      "\u001b[1;32mD:\\Anaconda3\\lib\\site-packages\\bs4\\element.py\u001b[0m in \u001b[0;36mselect\u001b[1;34m(self, selector, _candidate_generator, limit)\u001b[0m\n\u001b[0;32m   1530\u001b[0m                     print(\"    Running candidate generator on %s %s\" % (\n\u001b[0;32m   1531\u001b[0m                         tag.name, repr(tag.attrs)))\n\u001b[1;32m-> 1532\u001b[1;33m                 \u001b[1;32mfor\u001b[0m \u001b[0mcandidate\u001b[0m \u001b[1;32min\u001b[0m \u001b[0m_use_candidate_generator\u001b[0m\u001b[1;33m(\u001b[0m\u001b[0mtag\u001b[0m\u001b[1;33m)\u001b[0m\u001b[1;33m:\u001b[0m\u001b[1;33m\u001b[0m\u001b[0m\n\u001b[0m\u001b[0;32m   1533\u001b[0m                     \u001b[1;32mif\u001b[0m \u001b[1;32mnot\u001b[0m \u001b[0misinstance\u001b[0m\u001b[1;33m(\u001b[0m\u001b[0mcandidate\u001b[0m\u001b[1;33m,\u001b[0m \u001b[0mTag\u001b[0m\u001b[1;33m)\u001b[0m\u001b[1;33m:\u001b[0m\u001b[1;33m\u001b[0m\u001b[0m\n\u001b[0;32m   1534\u001b[0m                         \u001b[1;32mcontinue\u001b[0m\u001b[1;33m\u001b[0m\u001b[0m\n",
      "\u001b[1;32mD:\\Anaconda3\\lib\\site-packages\\bs4\\element.py\u001b[0m in \u001b[0;36mrecursive_select\u001b[1;34m(tag)\u001b[0m\n\u001b[0;32m   1491\u001b[0m                         \u001b[0mprint\u001b[0m\u001b[1;33m(\u001b[0m\u001b[1;34m'    Calling select(\"%s\") recursively on %s %s'\u001b[0m \u001b[1;33m%\u001b[0m \u001b[1;33m(\u001b[0m\u001b[0mnext_token\u001b[0m\u001b[1;33m,\u001b[0m \u001b[0mtag\u001b[0m\u001b[1;33m.\u001b[0m\u001b[0mname\u001b[0m\u001b[1;33m,\u001b[0m \u001b[0mtag\u001b[0m\u001b[1;33m.\u001b[0m\u001b[0mattrs\u001b[0m\u001b[1;33m)\u001b[0m\u001b[1;33m)\u001b[0m\u001b[1;33m\u001b[0m\u001b[0m\n\u001b[0;32m   1492\u001b[0m                         \u001b[0mprint\u001b[0m\u001b[1;33m(\u001b[0m\u001b[1;34m'-'\u001b[0m \u001b[1;33m*\u001b[0m \u001b[1;36m40\u001b[0m\u001b[1;33m)\u001b[0m\u001b[1;33m\u001b[0m\u001b[0m\n\u001b[1;32m-> 1493\u001b[1;33m                     \u001b[1;32mfor\u001b[0m \u001b[0mi\u001b[0m \u001b[1;32min\u001b[0m \u001b[0mtag\u001b[0m\u001b[1;33m.\u001b[0m\u001b[0mselect\u001b[0m\u001b[1;33m(\u001b[0m\u001b[0mnext_token\u001b[0m\u001b[1;33m,\u001b[0m \u001b[0mrecursive_candidate_generator\u001b[0m\u001b[1;33m)\u001b[0m\u001b[1;33m:\u001b[0m\u001b[1;33m\u001b[0m\u001b[0m\n\u001b[0m\u001b[0;32m   1494\u001b[0m                         \u001b[1;32mif\u001b[0m \u001b[0mself\u001b[0m\u001b[1;33m.\u001b[0m\u001b[0m_select_debug\u001b[0m\u001b[1;33m:\u001b[0m\u001b[1;33m\u001b[0m\u001b[0m\n\u001b[0;32m   1495\u001b[0m                             \u001b[0mprint\u001b[0m\u001b[1;33m(\u001b[0m\u001b[1;34m'(Recursive select picked up candidate %s %s)'\u001b[0m \u001b[1;33m%\u001b[0m \u001b[1;33m(\u001b[0m\u001b[0mi\u001b[0m\u001b[1;33m.\u001b[0m\u001b[0mname\u001b[0m\u001b[1;33m,\u001b[0m \u001b[0mi\u001b[0m\u001b[1;33m.\u001b[0m\u001b[0mattrs\u001b[0m\u001b[1;33m)\u001b[0m\u001b[1;33m)\u001b[0m\u001b[1;33m\u001b[0m\u001b[0m\n",
      "\u001b[1;32mD:\\Anaconda3\\lib\\site-packages\\bs4\\element.py\u001b[0m in \u001b[0;36mselect\u001b[1;34m(self, selector, _candidate_generator, limit)\u001b[0m\n\u001b[0;32m   1449\u001b[0m                 \u001b[1;32melse\u001b[0m\u001b[1;33m:\u001b[0m\u001b[1;33m\u001b[0m\u001b[0m\n\u001b[0;32m   1450\u001b[0m                     raise NotImplementedError(\n\u001b[1;32m-> 1451\u001b[1;33m                         'Only the following pseudo-classes are implemented: nth-of-type.')\n\u001b[0m\u001b[0;32m   1452\u001b[0m \u001b[1;33m\u001b[0m\u001b[0m\n\u001b[0;32m   1453\u001b[0m             \u001b[1;32melif\u001b[0m \u001b[0mtoken\u001b[0m \u001b[1;33m==\u001b[0m \u001b[1;34m'*'\u001b[0m\u001b[1;33m:\u001b[0m\u001b[1;33m\u001b[0m\u001b[0m\n",
      "\u001b[1;31mNotImplementedError\u001b[0m: Only the following pseudo-classes are implemented: nth-of-type."
     ]
    }
   ],
   "source": [
    "from selenium import webdriver\n",
    "from selenium.common.exceptions import TimeoutException\n",
    "from selenium.webdriver.support.ui import WebDriverWait\n",
    "from selenium.webdriver.support import expected_conditions as EC\n",
    "from selenium.webdriver.common.by import By\n",
    "from bs4 import BeautifulSoup\n",
    "\n",
    "browser = webdriver.Chrome()\n",
    "wait = WebDriverWait(browser, 10)\n",
    "browser.get('https://www.cnblogs.com/CloudMan6/p/5233484.html')\n",
    "wait.until(EC.presence_of_element_located((By.CSS_SELECTOR, '#post_next_prev > a')))\n",
    "#print(browser.page_source)\n",
    "\n",
    "a = BeautifulSoup(browser.page_source, 'lxml')\n",
    "# ab = a.find_all('a', class_='p_n_p_prefix')[-1].attrs['href']\n",
    "ab = a.select('#post_next_prev > a:nth-last-child(1)')\n",
    "print(ab)\n"
   ]
  },
  {
   "cell_type": "code",
   "execution_count": 111,
   "metadata": {},
   "outputs": [
    {
     "name": "stdout",
     "output_type": "stream",
     "text": [
      "<class 'bs4.element.Tag'>\n",
      "https://www.cnblogs.com/CloudMan6/p/5240770.html\n"
     ]
    }
   ],
   "source": [
    "from pyquery import PyQuery as pq\n",
    "from bs4 import BeautifulSoup\n",
    "# a = pq('<div xmlns=\"http://www.w3.org/1999/xhtml\" id=\"post_next_prev\"><a href=\"https://www.cnblogs.com/CloudMan6/p/5224114.html\" class=\"p_n_p_prefix\"></a></div>','lxml')\n",
    "# ab = a('#post_next_prev > a')\n",
    "# print(ab)\n",
    "\n",
    "a = BeautifulSoup('<div xmlns=\"http://www.w3.org/1999/xhtml\" id=\"post_next_prev\"><a href=\"https://www.cnblogs.com/CloudMan6/p/5224114.html\" class=\"p_n_p_prefix\">« </a> 上一篇：<a href=\"https://www.cnblogs.com/CloudMan6/p/5224114.html\" title=\"发布于2016-02-29 07:33\">写在最前面 - 每天5分钟玩转 OpenStack（1）</a><br/><a href=\"https://www.cnblogs.com/CloudMan6/p/5240770.html\" class=\"p_n_p_prefix\">» </a> 下一篇：<a href=\"https://www.cnblogs.com/CloudMan6/p/5240770.html\" title=\"发布于2016-03-04 06:54\">准备 KVM 实验环境 - 每天5分钟玩转 OpenStack（3）</a><br/></div>',\n",
    "                  'lxml')\n",
    "ab = a.select('#post_next_prev > a')\n",
    "print(type(ab[-1]))\n",
    "b = ab[-1].attrs['href']\n",
    "print(b)\n"
   ]
  },
  {
   "cell_type": "code",
   "execution_count": 11,
   "metadata": {},
   "outputs": [
    {
     "name": "stdout",
     "output_type": "stream",
     "text": [
      "[<div class=\"grid-meta\">\n",
      "<h4><a href=\"/models/alena\">Alena</a></h4>\n",
      "<div class=\"nick\">New and Fearless</div><span class=\"stats\">6 galleries</span> </div>, <div class=\"grid-meta\">\n",
      "<h4><a href=\"/models/alexia\">Alexia</a></h4>\n",
      "<div class=\"nick\">Toned and Outgoing</div><span class=\"stats\">4 galleries | 2 films</span> </div>, <div class=\"grid-meta\">\n",
      "<h4><a href=\"/models/aliona\">Aliona</a></h4>\n",
      "<div class=\"nick\">Incredibly Feminine</div><span class=\"stats\">5 galleries | 1 film</span> </div>, <div class=\"grid-meta\">\n",
      "<h4><a href=\"/models/ally\">Ally</a></h4>\n",
      "<div class=\"nick\">Creative but Fragile</div><span class=\"stats\">5 galleries | 1 film</span> </div>, <div class=\"grid-meta\">\n",
      "<h4><a href=\"/models/alma\">Alma</a></h4>\n",
      "<div class=\"nick\">Beauty from another time</div><span class=\"stats\">9 galleries</span> </div>, <div class=\"grid-meta\">\n",
      "<h4><a href=\"/models/alona\">Alona</a></h4>\n",
      "<div class=\"nick\">First blush</div><span class=\"stats\">4 galleries</span> </div>, <div class=\"grid-meta\">\n",
      "<h4><a href=\"/models/alya\">Alya</a></h4>\n",
      "<div class=\"nick\">Living Angel</div><span class=\"stats\">103 galleries | 9 films</span> </div>, <div class=\"grid-meta\">\n",
      "<h4><a href=\"/models/ama\">Ama</a></h4>\n",
      "<div class=\"nick\">Sweet and Sexy</div><span class=\"stats\">13 galleries | 1 film</span> </div>, <div class=\"grid-meta\">\n",
      "<h4><a href=\"/models/amandine\">Amandine</a></h4>\n",
      "<div class=\"nick\">Vivacious and Joyful</div><span class=\"stats\">11 galleries | 3 films</span> </div>, <div class=\"grid-meta\">\n",
      "<h4><a href=\"/models/amber\">Amber</a></h4>\n",
      "<div class=\"nick\">Taming wild horses</div><span class=\"stats\">24 galleries</span> </div>, <div class=\"grid-meta\">\n",
      "<h4><a href=\"/models/anahi\">Anahi</a></h4>\n",
      "<div class=\"nick\">Living Free</div><span class=\"stats\">6 galleries | 2 films</span> </div>, <div class=\"grid-meta\">\n",
      "<h4><a href=\"/models/anais\">Anais</a></h4>\n",
      "<div class=\"nick\">Mysterious Coquette</div><span class=\"stats\">2 galleries | 1 film</span> </div>, <div class=\"grid-meta\">\n",
      "<h4><a href=\"/models/angele\">Angele</a></h4>\n",
      "<div class=\"nick\">Angelic Beauty</div><span class=\"stats\">4 galleries</span> </div>, <div class=\"grid-meta\">\n",
      "<h4><a href=\"/models/angelica\">Angelica</a></h4>\n",
      "<div class=\"nick\">Delightfully Divine</div><span class=\"stats\">32 galleries | 4 films</span> </div>, <div class=\"grid-meta\">\n",
      "<h4><a href=\"/models/anita\">Anita</a></h4>\n",
      "<div class=\"nick\">Body Formula</div><span class=\"stats\">5 galleries</span> </div>, <div class=\"grid-meta\">\n",
      "<h4><a href=\"/models/anna\">Anna</a></h4>\n",
      "<div class=\"nick\">Ambitious and Glamorous</div><span class=\"stats\">14 galleries | 3 films</span> </div>, <div class=\"grid-meta\">\n",
      "<h4><a href=\"/models/anna-s\">Anna S</a></h4>\n",
      "<div class=\"nick\">Quietly Confident</div><span class=\"stats\">175 galleries | 27 films</span> </div>, <div class=\"grid-meta\">\n",
      "<h4><a href=\"/models/anna-t\">Anna T</a></h4>\n",
      "<div class=\"nick\">Big Bedroom Eyes</div><span class=\"stats\">3 galleries</span> </div>, <div class=\"grid-meta\">\n",
      "<h4><a href=\"/models/annette\">Annette</a></h4>\n",
      "<div class=\"nick\">American Beauty</div><span class=\"stats\">3 galleries | 1 film</span> </div>, <div class=\"grid-meta\">\n",
      "<h4><a href=\"/models/anri\">Anri</a></h4>\n",
      "<div class=\"nick\">Playful like a tiger</div><span class=\"stats\">2 galleries</span> </div>, <div class=\"grid-meta\">\n",
      "<h4><a href=\"/models/antonina\">Antonina</a></h4>\n",
      "<div class=\"nick\">Pretty as a Picture</div><span class=\"stats\">5 galleries | 1 film</span> </div>, <div class=\"grid-meta\">\n",
      "<h4><a href=\"/models/april\">April</a></h4>\n",
      "<div class=\"nick\">Toned to Perfection</div><span class=\"stats\">12 galleries</span> </div>, <div class=\"grid-meta\">\n",
      "<h4><a href=\"/models/aya-beshen\">Aya Beshen</a></h4>\n",
      "<div class=\"nick\">Oozing Lust and Love</div><span class=\"stats\">21 galleries</span> </div>, <div class=\"grid-meta\">\n",
      "<h4><a href=\"/models/bere\">Bere</a></h4>\n",
      "<div class=\"nick\">Adorable Charm</div><span class=\"stats\">14 galleries</span> </div>, <div class=\"grid-meta\">\n",
      "<h4><a href=\"/models/bieta\">Bieta</a></h4>\n",
      "<div class=\"nick\">Stylish and Chic</div><span class=\"stats\">3 galleries</span> </div>, <div class=\"grid-meta\">\n",
      "<h4><a href=\"/models/brigi\">Brigi</a></h4>\n",
      "<div class=\"nick\">Dancing Queen</div><span class=\"stats\">34 galleries | 2 films</span> </div>, <div class=\"grid-meta\">\n",
      "<h4><a href=\"/models/candice\">Candice</a></h4>\n",
      "<div class=\"nick\">Quirkish kookie</div><span class=\"stats\">32 galleries | 3 films</span> </div>, <div class=\"grid-meta\">\n",
      "<h4><a href=\"/models/caprice\">Caprice</a></h4>\n",
      "<div class=\"nick\">The legend continues</div><span class=\"stats\">42 galleries | 3 films</span> </div>, <div class=\"grid-meta\">\n",
      "<h4><a href=\"/models/carina\">Carina</a></h4>\n",
      "<div class=\"nick\">Fresh and Vital</div><span class=\"stats\">5 films</span> </div>, <div class=\"grid-meta\">\n",
      "<h4><a href=\"/models/carmen\">Carmen</a></h4>\n",
      "<div class=\"nick\">Free as a Bird</div><span class=\"stats\">5 galleries | 1 film</span> </div>, <div class=\"grid-meta\">\n",
      "<h4><a href=\"/models/caro\">Caro</a></h4>\n",
      "<div class=\"nick\">Petite and Charming</div><span class=\"stats\">29 galleries | 2 films</span> </div>, <div class=\"grid-meta\">\n",
      "<h4><a href=\"/models/cathleen\">Cathleen</a></h4>\n",
      "<div class=\"nick\">Tennis star’s sexual fantasy</div><span class=\"stats\">9 galleries</span> </div>, <div class=\"grid-meta\">\n",
      "<h4><a href=\"/models/charlotta\">Charlotta</a></h4>\n",
      "<span class=\"stats\">18 galleries</span> </div>, <div class=\"grid-meta\">\n",
      "<h4><a href=\"/models/chiaki\">Chiaki</a></h4>\n",
      "<div class=\"nick\">Ready for take off</div><span class=\"stats\">4 galleries</span> </div>, <div class=\"grid-meta\">\n",
      "<h4><a href=\"/models/christiana\">Christiana</a></h4>\n",
      "<div class=\"nick\">Lean And Lithe</div><span class=\"stats\">8 galleries | 2 films</span> </div>, <div class=\"grid-meta\">\n",
      "<h4><a href=\"/models/clover\">Clover</a></h4>\n",
      "<div class=\"nick\">She’s a honey</div><span class=\"stats\">23 galleries</span> </div>, <div class=\"grid-meta\">\n",
      "<h4><a href=\"/models/cocomi\">Cocomi</a></h4>\n",
      "<div class=\"nick\">Bright Eastern Star</div><span class=\"stats\">5 galleries</span> </div>, <div class=\"grid-meta\">\n",
      "<h4><a href=\"/models/coxy\">Coxy</a></h4>\n",
      "<div class=\"nick\">Flawless form</div><span class=\"stats\">52 galleries | 4 films</span> </div>, <div class=\"grid-meta\">\n",
      "<h4><a href=\"/models/dagmara\">Dagmara</a></h4>\n",
      "<div class=\"nick\">Charming Illusionist</div><span class=\"stats\">4 galleries</span> </div>, <div class=\"grid-meta\">\n",
      "<h4><a href=\"/models/darina\">Darina</a></h4>\n",
      "<div class=\"nick\">Teenage Promise</div><span class=\"stats\">8 galleries</span> </div>, <div class=\"grid-meta\">\n",
      "<h4><a href=\"/models/darina-l\">Darina L</a></h4>\n",
      "<div class=\"nick\">Filled with burning desire </div><span class=\"stats\">11 galleries | 2 films</span> </div>, <div class=\"grid-meta\">\n",
      "<h4><a href=\"/models/darine\">Darine</a></h4>\n",
      "<div class=\"nick\">Embrace the Exotic</div><span class=\"stats\">13 galleries</span> </div>, <div class=\"grid-meta\">\n",
      "<h4><a href=\"/models/dasha\">Dasha</a></h4>\n",
      "<div class=\"nick\">Full Figured Beauty</div><span class=\"stats\">17 galleries | 3 films</span> </div>, <div class=\"grid-meta\">\n",
      "<h4><a href=\"/models/dominika\">Dominika</a></h4>\n",
      "<div class=\"nick\">Body Rhythm</div><span class=\"stats\">10 galleries</span> </div>, <div class=\"grid-meta\">\n",
      "<h4><a href=\"/models/dominika-c\">Dominika C</a></h4>\n",
      "<div class=\"nick\">Natural Talent</div><span class=\"stats\">78 galleries | 15 films</span> </div>, <div class=\"grid-meta\">\n",
      "<h4><a href=\"/models/ekaterina\">Ekaterina</a></h4>\n",
      "<div class=\"nick\">Young and Shy</div><span class=\"stats\">15 galleries | 4 films</span> </div>, <div class=\"grid-meta\">\n",
      "<h4><a href=\"/models/elina\">Elina</a></h4>\n",
      "<div class=\"nick\">Pure Country Lass</div><span class=\"stats\">27 galleries | 4 films</span> </div>, <div class=\"grid-meta\">\n",
      "<h4><a href=\"/models/elisabeth\">Elisabeth</a></h4>\n",
      "<div class=\"nick\">Girl in Kneesocks</div><span class=\"stats\">9 galleries | 3 films</span> </div>, <div class=\"grid-meta\">\n",
      "<h4><a href=\"/models/ellen\">Ellen</a></h4>\n",
      "<div class=\"nick\">Pushing the Boundaries</div><span class=\"stats\">10 galleries | 1 film</span> </div>, <div class=\"grid-meta\">\n",
      "<h4><a href=\"/models/elly\">Elly</a></h4>\n",
      "<div class=\"nick\">Runway Veteran</div><span class=\"stats\">7 galleries | 1 film</span> </div>, <div class=\"grid-meta\">\n",
      "<h4><a href=\"/models/elvira\">Elvira</a></h4>\n",
      "<div class=\"nick\">Young Bundle Of Fun</div><span class=\"stats\">17 galleries | 2 films</span> </div>, <div class=\"grid-meta\">\n",
      "<h4><a href=\"/models/emily\">Emily</a></h4>\n",
      "<div class=\"nick\">Eager for it</div><span class=\"stats\">106 galleries | 11 films</span> </div>, <div class=\"grid-meta\">\n",
      "<h4><a href=\"/models/en\">En</a></h4>\n",
      "<div class=\"nick\">En. Russian bare.</div><span class=\"stats\">25 galleries | 2 films</span> </div>, <div class=\"grid-meta\">\n",
      "<h4><a href=\"/models/engelie\">Engelie</a></h4>\n",
      "<div class=\"nick\">Getting physical</div><span class=\"stats\">28 galleries | 5 films</span> </div>, <div class=\"grid-meta\">\n",
      "<h4><a href=\"/models/erica\">Erica</a></h4>\n",
      "<div class=\"nick\">Teen Queen</div><span class=\"stats\">18 galleries | 3 films</span> </div>, <div class=\"grid-meta\">\n",
      "<h4><a href=\"/models/erica-f\">Erica F</a></h4>\n",
      "<div class=\"nick\">Pretty and Perky</div><span class=\"stats\">26 galleries | 6 films</span> </div>, <div class=\"grid-meta\">\n",
      "<h4><a href=\"/models/eva-s\">Eva S</a></h4>\n",
      "<div class=\"nick\">Spontaneous and Fun</div><span class=\"stats\">18 galleries</span> </div>, <div class=\"grid-meta\">\n",
      "<h4><a href=\"/models/evi\">Evi</a></h4>\n",
      "<div class=\"nick\">A True Free Spirit</div><span class=\"stats\">29 galleries | 10 films</span> </div>, <div class=\"grid-meta\">\n",
      "<h4><a href=\"/models/fabi\">Fabi</a></h4>\n",
      "<div class=\"nick\">Lady, chic, sexy, skyscraper</div><span class=\"stats\">8 galleries | 5 films</span> </div>, <div class=\"grid-meta\">\n",
      "<h4><a href=\"/models/federica\">Federica</a></h4>\n",
      "<div class=\"nick\">Perpetual Youth</div><span class=\"stats\">6 galleries</span> </div>]\n"
     ]
    }
   ],
   "source": [
    "from bs4 import BeautifulSoup\n",
    "import requests\n",
    "url= 'http://hegregirls.com/models'\n",
    "response = requests.get(url)\n",
    "a = BeautifulSoup(response.text,'lxml')\n",
    "ab = a.select('#block-system-main .node-grid .grid-meta')\n",
    "print(ab)"
   ]
  },
  {
   "cell_type": "code",
   "execution_count": null,
   "metadata": {},
   "outputs": [],
   "source": []
  }
 ],
 "metadata": {
  "kernelspec": {
   "display_name": "Python 3",
   "language": "python",
   "name": "python3"
  },
  "language_info": {
   "codemirror_mode": {
    "name": "ipython",
    "version": 3
   },
   "file_extension": ".py",
   "mimetype": "text/x-python",
   "name": "python",
   "nbconvert_exporter": "python",
   "pygments_lexer": "ipython3",
   "version": "3.6.5"
  }
 },
 "nbformat": 4,
 "nbformat_minor": 2
}

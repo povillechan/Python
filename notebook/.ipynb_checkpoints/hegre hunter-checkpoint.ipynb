{
 "cells": [
  {
   "cell_type": "code",
   "execution_count": 13,
   "metadata": {},
   "outputs": [
    {
     "name": "stdout",
     "output_type": "stream",
     "text": [
      "https://www.xerotica.com/\n",
      "https://www.babehub.com/\n",
      "https://www.elitebabes.com/\n",
      "https://www.metarthunter.com/\n",
      "https://www.xarthunter.com/\n",
      "https://www.jperotica.com/\n",
      "https://www.femjoyhunter.com/\n",
      "https://www.joymiihub.com/\n",
      "https://www.erroticahunter.com/\n",
      "https://www.rylskyhunter.com/\n",
      "https://pmatehunter.com/\n",
      "https://www.gravurehunter.com/\n",
      "https://www.ftvhunter.com/\n",
      "https://www.mplhunter.com/\n",
      "https://www.zemanihunter.com/\n",
      "https://www.metheaven.com/\n",
      "https://www.femangels.com/\n",
      "https://www.w4bhub.com/\n",
      "https://www.alshunter.com/\n",
      "https://www.digitalsweeties.com/\n",
      "https://www.drommhub.com/\n",
      "https://www.jpbeauties.com/\n",
      "https://www.xarthub.com/\n",
      "https://www.penthousehub.com/\n",
      "https://www.tlehunter.com/\n",
      "https://www.eroticandbeauty.com/\n",
      "https://www.domerotica.com/\n",
      "https://www.centerfoldhunter.com/\n",
      "https://www.xerotica.com/\n",
      "https://www.babehub.com/\n"
     ]
    }
   ],
   "source": [
    "from pyquery import PyQuery as pq\n",
    "site_list = ['https://www.hegrehunter.com/']\n",
    "site_searched = []\n",
    "\n",
    "def site_search_by_url(url)\n",
    "    a = pq(url)    \n",
    "\n",
    "    site_navi = a('h2').filter(lambda i: pq(this).text() == 'Free Erotic Sites').nextAll('ul li a')\n",
    "\n",
    "    for site in site_navi.items():\n",
    "        site_url = site.attr('href')\n",
    "        if site_url not in site_list  and site_url not in site_searched:\n",
    "            site_list.append(site_url)\n",
    "\n",
    "            \n",
    "while len(site_list) > 0:\n",
    "    site_search_by_url(site_list[0])\n",
    "    site_searched.append(site_list[0])\n",
    "    site_list.pop(0)\n"
   ]
  },
  {
   "cell_type": "code",
   "execution_count": 4,
   "metadata": {},
   "outputs": [
    {
     "name": "stdout",
     "output_type": "stream",
     "text": [
      "video url https://www.joymiihub.com/horny-coco-pleasures-her-tight-muff-with-a-big-toy-on-the-bed/\n",
      "<video id=\"my_video_1\" class=\"video-js vjs-sublime-skin video-a\" controls=\"\" preload=\"auto\" loop=\"\" poster=\"https://r4y6i3v6.ssl.hwcdn.net/content/161006/horny-coco-pleasures-her-tight-muff-with-a-big-toy-on-the-bed_500.jpg\" data-setup=\"{ &quot;aspectRatio&quot;:&quot;864:480&quot;}\">\n",
      "    <source src=\"https://g3x6f3z7.ssl.hwcdn.net/content/161006/horny-coco-pleasures-her-tight-muff-with-a-big-toy-on-the-bed.mp4\" type=\"video/mp4\"/>\n",
      "    <source src=\"https://g3x6f3z7.ssl.hwcdn.net/content/161006/horny-coco-pleasures-her-tight-muff-with-a-big-toy-on-the-bed.webm\" type=\"video/webm\"/>\n",
      "</video>\n",
      "\t\t\t\t\t\n",
      "\n",
      "{'src': ['https://g3x6f3z7.ssl.hwcdn.net/content/161006/horny-coco-pleasures-her-tight-muff-with-a-big-toy-on-the-bed.mp4', 'https://g3x6f3z7.ssl.hwcdn.net/content/161006/horny-coco-pleasures-her-tight-muff-with-a-big-toy-on-the-bed.webm'], 'board': 'https://r4y6i3v6.ssl.hwcdn.net/content/161006/horny-coco-pleasures-her-tight-muff-with-a-big-toy-on-the-bed_500.jpg'}\n"
     ]
    }
   ],
   "source": [
    "from pyquery import PyQuery as pq                  \n",
    "url = 'https://www.joymiihub.com/horny-coco-pleasures-her-tight-muff-with-a-big-toy-on-the-bed/'   \n",
    "b = pq(url)\n",
    "print('video url %s' %url)\n",
    "                        \n",
    "art_site_info = b('#breadcrumbs li')\n",
    "info_string = []\n",
    "for it in art_site_info.items(): \n",
    "    info_string.append(it.text())\n",
    "                        \n",
    "if len(info_string) >=3:\n",
    "    site = info_string[0]\n",
    "    model = info_string[1]\n",
    "    name = info_string[2]   \n",
    "                        \n",
    "video = None\n",
    "video_item = b('video')\n",
    "if video_item:\n",
    "    src = []\n",
    "    print(video_item)\n",
    "    print(video_item('src'))\n",
    "    for src_item in video_item('source').items():\n",
    "        src.append(src_item.attr('src'))\n",
    "    video={\n",
    "        'src': src,\n",
    "        'board':video_item.attr('poster')\n",
    "    }     \n",
    "image = {    \n",
    "    'site':  site,\n",
    "    'name':  utils.format_name(name),  \n",
    "    'model': utils.format_name(model),  \n",
    "    'discrib': utils.format_name(discrib),\n",
    "    'small': result[1] if result and len(result) >= 2 else None,\n",
    "    'mid':   item('a').attr('src'),\n",
    "    'large':  result[0] if result and len(result) >= 2 else None,  \n",
    "    'url':  url,\n",
    "#     'image_set': result,        \n",
    "    }      \n",
    "print(image)\n"
   ]
  },
  {
   "cell_type": "code",
   "execution_count": null,
   "metadata": {},
   "outputs": [],
   "source": []
  }
 ],
 "metadata": {
  "kernelspec": {
   "display_name": "Python 3",
   "language": "python",
   "name": "python3"
  },
  "language_info": {
   "codemirror_mode": {
    "name": "ipython",
    "version": 3
   },
   "file_extension": ".py",
   "mimetype": "text/x-python",
   "name": "python",
   "nbconvert_exporter": "python",
   "pygments_lexer": "ipython3",
   "version": "3.6.5"
  }
 },
 "nbformat": 4,
 "nbformat_minor": 2
}
